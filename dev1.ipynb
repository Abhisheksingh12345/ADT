{
  "nbformat": 4,
  "nbformat_minor": 0,
  "metadata": {
    "colab": {
      "provenance": [],
      "authorship_tag": "ABX9TyP6M7fquk42pbYxI0Uv7X80",
      "include_colab_link": true
    },
    "kernelspec": {
      "name": "python3",
      "display_name": "Python 3"
    },
    "language_info": {
      "name": "python"
    }
  },
  "cells": [
    {
      "cell_type": "markdown",
      "metadata": {
        "id": "view-in-github",
        "colab_type": "text"
      },
      "source": [
        "<a href=\"https://colab.research.google.com/github/Abhisheksingh12345/ADT/blob/master/dev1.ipynb\" target=\"_parent\"><img src=\"https://colab.research.google.com/assets/colab-badge.svg\" alt=\"Open In Colab\"/></a>"
      ]
    },
    {
      "cell_type": "code",
      "execution_count": 2,
      "metadata": {
        "colab": {
          "base_uri": "https://localhost:8080/"
        },
        "id": "Jeo15bke1YyR",
        "outputId": "c51375e8-dabf-4bd7-e710-59b789fbbdb4"
      },
      "outputs": [
        {
          "output_type": "stream",
          "name": "stdout",
          "text": [
            "Mounted at /content/drive\n"
          ]
        }
      ],
      "source": [
        "from google.colab import drive\n",
        "drive.mount('/content/drive')"
      ]
    },
    {
      "cell_type": "code",
      "source": [
        "pip install pyspark"
      ],
      "metadata": {
        "id": "V8hpQgOq1fvr",
        "outputId": "3b38a44f-2333-4c73-8805-4e0da908108a",
        "colab": {
          "base_uri": "https://localhost:8080/"
        }
      },
      "execution_count": 1,
      "outputs": [
        {
          "output_type": "stream",
          "name": "stdout",
          "text": [
            "Collecting pyspark\n",
            "  Downloading pyspark-3.4.1.tar.gz (310.8 MB)\n",
            "\u001b[2K     \u001b[90m━━━━━━━━━━━━━━━━━━━━━━━━━━━━━━━━━━━━━━━\u001b[0m \u001b[32m310.8/310.8 MB\u001b[0m \u001b[31m2.0 MB/s\u001b[0m eta \u001b[36m0:00:00\u001b[0m\n",
            "\u001b[?25h  Preparing metadata (setup.py) ... \u001b[?25l\u001b[?25hdone\n",
            "Requirement already satisfied: py4j==0.10.9.7 in /usr/local/lib/python3.10/dist-packages (from pyspark) (0.10.9.7)\n",
            "Building wheels for collected packages: pyspark\n",
            "  Building wheel for pyspark (setup.py) ... \u001b[?25l\u001b[?25hdone\n",
            "  Created wheel for pyspark: filename=pyspark-3.4.1-py2.py3-none-any.whl size=311285388 sha256=dc5cbc842073306a1cc34cb82615cba29d311b9799ed2fcd8b587784455acbbd\n",
            "  Stored in directory: /root/.cache/pip/wheels/0d/77/a3/ff2f74cc9ab41f8f594dabf0579c2a7c6de920d584206e0834\n",
            "Successfully built pyspark\n",
            "Installing collected packages: pyspark\n",
            "Successfully installed pyspark-3.4.1\n"
          ]
        }
      ]
    },
    {
      "cell_type": "code",
      "source": [
        "from pyspark.sql import SparkSession\n",
        "from pyspark.sql.functions import *\n",
        "import matplotlib.pyplot as plts"
      ],
      "metadata": {
        "id": "lI_QldMi6xe1"
      },
      "execution_count": 3,
      "outputs": []
    },
    {
      "cell_type": "code",
      "source": [
        "spark = SparkSession.builder.appName('dev_1').master('local[4]').getOrCreate()"
      ],
      "metadata": {
        "id": "HiRlrDKS6xtW"
      },
      "execution_count": 4,
      "outputs": []
    },
    {
      "cell_type": "code",
      "source": [
        "sc = spark.sparkContext"
      ],
      "metadata": {
        "id": "lWN1sXdo6x45"
      },
      "execution_count": 5,
      "outputs": []
    },
    {
      "cell_type": "markdown",
      "source": [],
      "metadata": {
        "id": "1XEgZqJgDu-N"
      }
    },
    {
      "cell_type": "code",
      "source": [
        "table_A_path = '/content/drive/MyDrive/datasets/Table_A.csv'\n",
        "table_B_path = '/content/drive/MyDrive/datasets/Table_B.csv'\n",
        "table_C_path = '/content/drive/MyDrive/datasets/Table_C.csv'"
      ],
      "metadata": {
        "id": "GHUlnBc66x-E"
      },
      "execution_count": 6,
      "outputs": []
    },
    {
      "cell_type": "code",
      "source": [
        "table_A_df = spark.read.format('csv').option('inferSchema',True).option('header',True).load(table_A_path)"
      ],
      "metadata": {
        "id": "UTkJE3ia6yA4"
      },
      "execution_count": 7,
      "outputs": []
    },
    {
      "cell_type": "code",
      "source": [
        "table_B_df = spark.read.format('csv').option('inferSchema',True).option('header',True).load(table_B_path)"
      ],
      "metadata": {
        "id": "nSFgIF2c6yGd"
      },
      "execution_count": 8,
      "outputs": []
    },
    {
      "cell_type": "code",
      "source": [
        "table_C_df = spark.read.format('csv').option('inferSchema',True).option('header',True).load(table_C_path)"
      ],
      "metadata": {
        "id": "Ad0YEO6O6yIv"
      },
      "execution_count": 9,
      "outputs": []
    },
    {
      "cell_type": "code",
      "source": [
        "table_A_df.show()"
      ],
      "metadata": {
        "id": "2RD_kekjSOTh",
        "outputId": "7d5ab5e0-10af-4077-eab5-e0844cd020c5",
        "colab": {
          "base_uri": "https://localhost:8080/"
        }
      },
      "execution_count": 12,
      "outputs": [
        {
          "output_type": "stream",
          "name": "stdout",
          "text": [
            "+------+----------+------+----------+------------+\n",
            "|cif_id|account_no|amount|department|Pride_rating|\n",
            "+------+----------+------+----------+------------+\n",
            "|  1222|       A01| 50000|       C2E|         3.0|\n",
            "|  1353|       A03| 50000|       MOT|         1.0|\n",
            "|  1262|       B01|100000|       IIT|         2.5|\n",
            "|  1373|       BC2|300000|       C2E|         1.5|\n",
            "+------+----------+------+----------+------------+\n",
            "\n"
          ]
        }
      ]
    },
    {
      "cell_type": "code",
      "source": [
        "table_B_df.show()"
      ],
      "metadata": {
        "id": "zG7pl15KSOIH",
        "outputId": "267ebd74-625d-42f6-fae8-7ac77c0088e5",
        "colab": {
          "base_uri": "https://localhost:8080/"
        }
      },
      "execution_count": 13,
      "outputs": [
        {
          "output_type": "stream",
          "name": "stdout",
          "text": [
            "+------+-------+-----------+---------+---------------------+\n",
            "|cif_id|loan_no|loan_amount|loan_type|last_date_for_payment|\n",
            "+------+-------+-----------+---------+---------------------+\n",
            "|  1222|    A01|     100000|     HOME|           2023-09-31|\n",
            "|  1353|    A03|     200000| PERSONAL|           2024-01-02|\n",
            "|  1046|    C21|     100000|      CAR|           2023-10-11|\n",
            "|  1400|    C23|     300000|     HOME|           2023-10-15|\n",
            "|  1501|    D12|     400000|EDUCATION|           2024-01-02|\n",
            "+------+-------+-----------+---------+---------------------+\n",
            "\n"
          ]
        }
      ]
    },
    {
      "cell_type": "code",
      "source": [
        "table_C_df.show()"
      ],
      "metadata": {
        "id": "7K85_4c4SN5R",
        "outputId": "5452170f-ca6c-4077-f2a8-b06859487056",
        "colab": {
          "base_uri": "https://localhost:8080/"
        }
      },
      "execution_count": 14,
      "outputs": [
        {
          "output_type": "stream",
          "name": "stdout",
          "text": [
            "+-------+----------+------------+-----------+\n",
            "|acct_no|saving_acc|current_acct|  open_date|\n",
            "+-------+----------+------------+-----------+\n",
            "|     12|     20000|       50000| 01-07-2023|\n",
            "|     21|     30000|       60000| 23-06-2022|\n",
            "|     31|     30000|        null| 2021-05-23|\n",
            "|     13|    100000|        null| 02-07-2023|\n",
            "|     41|      null|        null| 10-01-2023|\n",
            "|     14|    320000|      600000| 05-01-2022|\n",
            "+-------+----------+------------+-----------+\n",
            "\n"
          ]
        }
      ]
    },
    {
      "cell_type": "code",
      "source": [
        "withoutscpace_tableC_df = table_C_df.na.fill(\"\").withColumn(\"open_date\",date_format(to_date(col(\"open_date\"), \"dd-MM-yyyy\"), \"yyyy-MM-dd\"))"
      ],
      "metadata": {
        "id": "G1_hNqGu6ySb"
      },
      "execution_count": 10,
      "outputs": []
    },
    {
      "cell_type": "code",
      "source": [
        "withoutscpace_tableC_df.show()"
      ],
      "metadata": {
        "id": "ucVnwYDw_XWR",
        "outputId": "6cf9cccf-391a-4a43-f8cf-9f662caeb6de",
        "colab": {
          "base_uri": "https://localhost:8080/"
        }
      },
      "execution_count": 11,
      "outputs": [
        {
          "output_type": "stream",
          "name": "stdout",
          "text": [
            "+-------+----------+------------+----------+\n",
            "|acct_no|saving_acc|current_acct| open_date|\n",
            "+-------+----------+------------+----------+\n",
            "|     12|     20000|       50000|2023-07-01|\n",
            "|     21|     30000|       60000|2022-06-23|\n",
            "|     31|     30000|        null|      null|\n",
            "|     13|    100000|        null|2023-07-02|\n",
            "|     41|      null|        null|2023-01-10|\n",
            "|     14|    320000|      600000|2022-01-05|\n",
            "+-------+----------+------------+----------+\n",
            "\n"
          ]
        }
      ]
    },
    {
      "cell_type": "code",
      "source": [
        "#@title Q1"
      ],
      "metadata": {
        "id": "AMNBsjQHTFaj"
      },
      "execution_count": null,
      "outputs": []
    },
    {
      "cell_type": "code",
      "source": [
        "#@title Q2"
      ],
      "metadata": {
        "id": "88FgCCmaTFXD"
      },
      "execution_count": null,
      "outputs": []
    },
    {
      "cell_type": "code",
      "source": [
        "#@title Q3 Merge table A table B if A, loan no is null and last_date payroll >= 2024 then delete whole row\n",
        "Q_3_df = table_A_df.join(table_B_df, on=[\"cif_id\"], how=\"left_outer\") \\\n",
        "  .filter((table_B_df[\"loan_no\"].isNull()) & (table_B_df[\"last_date_for_payment\"] >= \"2024-01-01\"))\n",
        "Q_3_df.show()\n",
        "Q_3_= table_A_df.join(Q_3_df.select(\"cif_id\"), on=[\"cif_id\"], how=\"left_anti\")\n",
        "Q_3.show()\n"
      ],
      "metadata": {
        "cellView": "form",
        "id": "PBmurYJa6AR3"
      },
      "execution_count": null,
      "outputs": []
    },
    {
      "cell_type": "code",
      "source": [
        "#@title Q4"
      ],
      "metadata": {
        "id": "5Ga8wnE7TFUB"
      },
      "execution_count": null,
      "outputs": []
    },
    {
      "cell_type": "code",
      "source": [
        "#@title Q5"
      ],
      "metadata": {
        "id": "XhMBOOeUTFIF"
      },
      "execution_count": null,
      "outputs": []
    },
    {
      "cell_type": "code",
      "source": [
        "#@title Q6 For table C create a new Column which have open_date in format YYYMMM\n",
        "Q6_df = withoutscpace_tableC_df.withColumn(\"new date\", date_format(col('open_date'), 'yyyyMM'))\n",
        "Q6_df.show()"
      ],
      "metadata": {
        "cellView": "form",
        "id": "1elIU8wl6AJf"
      },
      "execution_count": null,
      "outputs": []
    },
    {
      "cell_type": "code",
      "source": [
        "#@title Q7 For table A group by deparment order of all column amonut > 1L\n",
        "Q_7 = table_A_df.filter(col('amount') > 100000).groupBy(col('department')).agg(count(col('cif_id')).alias('count')).orderBy('count')\n",
        "Q_7.show()"
      ],
      "metadata": {
        "id": "Ex7Go1s7_XLl",
        "cellView": "form"
      },
      "execution_count": null,
      "outputs": []
    },
    {
      "cell_type": "code",
      "source": [],
      "metadata": {
        "id": "sVJ5WT4N_XBi"
      },
      "execution_count": null,
      "outputs": []
    },
    {
      "cell_type": "code",
      "source": [],
      "metadata": {
        "id": "c_1xYSYV6yVc"
      },
      "execution_count": null,
      "outputs": []
    }
  ]
}