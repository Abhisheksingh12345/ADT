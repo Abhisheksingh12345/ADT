{
  "nbformat": 4,
  "nbformat_minor": 0,
  "metadata": {
    "colab": {
      "provenance": [],
      "toc_visible": true,
      "authorship_tag": "ABX9TyMIF7JMd4XQriFjE9E25A7a",
      "include_colab_link": true
    },
    "kernelspec": {
      "name": "python3",
      "display_name": "Python 3"
    },
    "language_info": {
      "name": "python"
    }
  },
  "cells": [
    {
      "cell_type": "markdown",
      "metadata": {
        "id": "view-in-github",
        "colab_type": "text"
      },
      "source": [
        "<a href=\"https://colab.research.google.com/github/Abhisheksingh12345/ADT/blob/master/dev1.ipynb\" target=\"_parent\"><img src=\"https://colab.research.google.com/assets/colab-badge.svg\" alt=\"Open In Colab\"/></a>"
      ]
    },
    {
      "cell_type": "code",
      "execution_count": 1,
      "metadata": {
        "colab": {
          "base_uri": "https://localhost:8080/"
        },
        "id": "Jeo15bke1YyR",
        "outputId": "7e452655-159b-4bc4-e718-a4c35fc0843e"
      },
      "outputs": [
        {
          "output_type": "stream",
          "name": "stdout",
          "text": [
            "Mounted at /content/drive\n"
          ]
        }
      ],
      "source": [
        "from google.colab import drive\n",
        "drive.mount('/content/drive')"
      ]
    },
    {
      "cell_type": "code",
      "source": [
        "pip install pyspark"
      ],
      "metadata": {
        "id": "V8hpQgOq1fvr",
        "outputId": "b5f788fa-2d35-4d71-bc2d-8cdccf30b789",
        "colab": {
          "base_uri": "https://localhost:8080/"
        }
      },
      "execution_count": 4,
      "outputs": [
        {
          "output_type": "stream",
          "name": "stdout",
          "text": [
            "Collecting pyspark\n",
            "  Downloading pyspark-3.4.1.tar.gz (310.8 MB)\n",
            "\u001b[2K     \u001b[90m━━━━━━━━━━━━━━━━━━━━━━━━━━━━━━━━━━━━━━━\u001b[0m \u001b[32m310.8/310.8 MB\u001b[0m \u001b[31m4.8 MB/s\u001b[0m eta \u001b[36m0:00:00\u001b[0m\n",
            "\u001b[?25h  Preparing metadata (setup.py) ... \u001b[?25l\u001b[?25hdone\n",
            "Requirement already satisfied: py4j==0.10.9.7 in /usr/local/lib/python3.10/dist-packages (from pyspark) (0.10.9.7)\n",
            "Building wheels for collected packages: pyspark\n",
            "  Building wheel for pyspark (setup.py) ... \u001b[?25l\u001b[?25hdone\n",
            "  Created wheel for pyspark: filename=pyspark-3.4.1-py2.py3-none-any.whl size=311285388 sha256=de242cfdb73bd372c3a984f159bf2f505d122a417d550d45a7f0b6e1fae830f8\n",
            "  Stored in directory: /root/.cache/pip/wheels/0d/77/a3/ff2f74cc9ab41f8f594dabf0579c2a7c6de920d584206e0834\n",
            "Successfully built pyspark\n",
            "Installing collected packages: pyspark\n",
            "Successfully installed pyspark-3.4.1\n"
          ]
        }
      ]
    },
    {
      "cell_type": "code",
      "source": [
        "from pyspark.sql import SparkSession\n",
        "from pyspark.sql.functions import *\n",
        "import matplotlib.pyplot as plts"
      ],
      "metadata": {
        "id": "lI_QldMi6xe1"
      },
      "execution_count": 5,
      "outputs": []
    },
    {
      "cell_type": "code",
      "source": [
        "spark = SparkSession.builder.appName('dev_1').master('local[4]').getOrCreate()"
      ],
      "metadata": {
        "id": "HiRlrDKS6xtW"
      },
      "execution_count": 6,
      "outputs": []
    },
    {
      "cell_type": "code",
      "source": [
        "sc = spark.sparkContext"
      ],
      "metadata": {
        "id": "lWN1sXdo6x45"
      },
      "execution_count": 7,
      "outputs": []
    },
    {
      "cell_type": "markdown",
      "source": [],
      "metadata": {
        "id": "1XEgZqJgDu-N"
      }
    },
    {
      "cell_type": "code",
      "source": [
        "table_A_path = '/content/drive/MyDrive/datasets/Table_A.csv'\n",
        "table_B_path = '/content/drive/MyDrive/datasets/Table_B.csv'\n",
        "table_C_path = '/content/drive/MyDrive/datasets/Table_C.csv'"
      ],
      "metadata": {
        "id": "GHUlnBc66x-E"
      },
      "execution_count": 8,
      "outputs": []
    },
    {
      "cell_type": "code",
      "source": [
        "table_A_df = spark.read.format('csv').option('inferSchema',True).option('header',True).load(table_A_path)"
      ],
      "metadata": {
        "id": "UTkJE3ia6yA4"
      },
      "execution_count": 9,
      "outputs": []
    },
    {
      "cell_type": "code",
      "source": [
        "table_B_df = spark.read.format('csv').option('inferSchema',True).option('header',True).load(table_B_path)"
      ],
      "metadata": {
        "id": "nSFgIF2c6yGd"
      },
      "execution_count": 10,
      "outputs": []
    },
    {
      "cell_type": "code",
      "source": [
        "table_C_df = spark.read.format('csv').option('inferSchema',True).option('header',True).load(table_C_path)"
      ],
      "metadata": {
        "id": "Ad0YEO6O6yIv"
      },
      "execution_count": 11,
      "outputs": []
    },
    {
      "cell_type": "code",
      "source": [
        "table_A_df.show()"
      ],
      "metadata": {
        "id": "2RD_kekjSOTh",
        "outputId": "a4648ce8-fe93-4ee2-bc4e-1dc0b0e36b71",
        "colab": {
          "base_uri": "https://localhost:8080/"
        }
      },
      "execution_count": 12,
      "outputs": [
        {
          "output_type": "stream",
          "name": "stdout",
          "text": [
            "+------+----------+------+----------+------------+\n",
            "|cif_id|account_no|amount|department|Pride_rating|\n",
            "+------+----------+------+----------+------------+\n",
            "|  1222|       A01| 50000|       C2E|         3.0|\n",
            "|  1353|       A03| 50000|       MOT|         1.0|\n",
            "|  1262|       B01|100000|       IIT|         2.5|\n",
            "|  1373|       BC2|300000|       C2E|         1.5|\n",
            "+------+----------+------+----------+------------+\n",
            "\n"
          ]
        }
      ]
    },
    {
      "cell_type": "code",
      "source": [
        "table_B_df.show()"
      ],
      "metadata": {
        "id": "zG7pl15KSOIH",
        "outputId": "d9bc98a4-676f-499f-d893-7718d26443e4",
        "colab": {
          "base_uri": "https://localhost:8080/"
        }
      },
      "execution_count": 13,
      "outputs": [
        {
          "output_type": "stream",
          "name": "stdout",
          "text": [
            "+------+-------+-----------+---------+---------------------+\n",
            "|cif_id|loan_no|loan_amount|loan_type|last_date_for_payment|\n",
            "+------+-------+-----------+---------+---------------------+\n",
            "|  1222|    A01|     100000|     HOME|           2023-09-31|\n",
            "|  1353|    A03|     200000| PERSONAL|           2024-01-02|\n",
            "|  1046|    C21|     100000|      CAR|           2023-10-11|\n",
            "|  1400|    C23|     300000|     HOME|           2023-10-15|\n",
            "|  1501|    D12|     400000|EDUCATION|           2024-01-02|\n",
            "+------+-------+-----------+---------+---------------------+\n",
            "\n"
          ]
        }
      ]
    },
    {
      "cell_type": "code",
      "source": [
        "table_C_df.show()"
      ],
      "metadata": {
        "id": "7K85_4c4SN5R",
        "outputId": "0f020c3d-0111-4a21-d557-5a186e30939e",
        "colab": {
          "base_uri": "https://localhost:8080/"
        }
      },
      "execution_count": 14,
      "outputs": [
        {
          "output_type": "stream",
          "name": "stdout",
          "text": [
            "+-------+----------+------------+-----------+\n",
            "|acct_no|saving_acc|current_acct|  open_date|\n",
            "+-------+----------+------------+-----------+\n",
            "|     12|     20000|       50000| 01-07-2023|\n",
            "|     21|     30000|       60000| 23-06-2022|\n",
            "|     31|     30000|        null| 2021-05-23|\n",
            "|     13|    100000|        null| 02-07-2023|\n",
            "|     41|      null|        null| 10-01-2023|\n",
            "|     14|    320000|      600000| 05-01-2022|\n",
            "+-------+----------+------------+-----------+\n",
            "\n"
          ]
        }
      ]
    },
    {
      "cell_type": "code",
      "source": [
        "withoutscpace_tableC_df = table_C_df.na.fill(\"\").withColumn(\"open_date\",date_format(to_date(col(\"open_date\"), \"dd-MM-yyyy\"), \"yyyy-MM-dd\"))"
      ],
      "metadata": {
        "id": "G1_hNqGu6ySb"
      },
      "execution_count": 15,
      "outputs": []
    },
    {
      "cell_type": "code",
      "source": [
        "withoutscpace_tableC_df.show()"
      ],
      "metadata": {
        "id": "ucVnwYDw_XWR",
        "outputId": "ec266c60-2ac2-4955-9155-ed1e76e6b377",
        "colab": {
          "base_uri": "https://localhost:8080/"
        }
      },
      "execution_count": 16,
      "outputs": [
        {
          "output_type": "stream",
          "name": "stdout",
          "text": [
            "+-------+----------+------------+----------+\n",
            "|acct_no|saving_acc|current_acct| open_date|\n",
            "+-------+----------+------------+----------+\n",
            "|     12|     20000|       50000|2023-07-01|\n",
            "|     21|     30000|       60000|2022-06-23|\n",
            "|     31|     30000|        null|      null|\n",
            "|     13|    100000|        null|2023-07-02|\n",
            "|     41|      null|        null|2023-01-10|\n",
            "|     14|    320000|      600000|2022-01-05|\n",
            "+-------+----------+------------+----------+\n",
            "\n"
          ]
        }
      ]
    },
    {
      "cell_type": "code",
      "source": [
        "#@title Q1"
      ],
      "metadata": {
        "id": "AMNBsjQHTFaj"
      },
      "execution_count": null,
      "outputs": []
    },
    {
      "cell_type": "code",
      "source": [
        "#@title Q2 Merge table A and table B if A or B, find second highest amount for each department\n",
        "from pyspark.sql.window import Window\n",
        "mergeA_B_df = table_A_df.join(table_B_df, on = 'cif_id', how = \"full\")\n",
        "mergeA_B_2df = mergeA_B_df.coalesce(4)\n",
        "window_spec = Window.partitionBy(\"department\").orderBy(col(\"amount\").desc())\n",
        "merged_df = mergeA_B_2df.withColumn(\"row_num\", row_number().over(window_spec))\n",
        "secound_highest = merged_df.filter( col('department').isNull and (col('row_num') == 2))\n",
        "secound_highest.show()"
      ],
      "metadata": {
        "id": "88FgCCmaTFXD",
        "cellView": "form",
        "outputId": "2d8bbc84-7500-4ceb-d831-5e3051aa7711",
        "colab": {
          "base_uri": "https://localhost:8080/"
        }
      },
      "execution_count": 25,
      "outputs": [
        {
          "output_type": "stream",
          "name": "stdout",
          "text": [
            "+------+----------+------+----------+------------+-------+-----------+---------+---------------------+-------+\n",
            "|cif_id|account_no|amount|department|Pride_rating|loan_no|loan_amount|loan_type|last_date_for_payment|row_num|\n",
            "+------+----------+------+----------+------------+-------+-----------+---------+---------------------+-------+\n",
            "|  1400|      null|  null|      null|        null|    C23|     300000|     HOME|           2023-10-15|      2|\n",
            "|  1222|       A01| 50000|       C2E|         3.0|    A01|     100000|     HOME|           2023-09-31|      2|\n",
            "+------+----------+------+----------+------------+-------+-----------+---------+---------------------+-------+\n",
            "\n"
          ]
        }
      ]
    },
    {
      "cell_type": "code",
      "source": [
        "#@title Q3 Merge table A table B if A, loan no is null and last_date payroll >= 2024 then delete whole row\n",
        "Q_3_df = table_A_df.join(table_B_df, on=[\"cif_id\"], how=\"left_outer\") \\\n",
        "  .filter((table_B_df[\"loan_no\"].isNull()) & (table_B_df[\"last_date_for_payment\"] >= \"2024-01-01\"))\n",
        "Q_3_df.show()\n",
        "Q_3_= table_A_df.join(Q_3_df.select(\"cif_id\"), on=[\"cif_id\"], how=\"left_anti\")\n",
        "Q_3_.show()\n"
      ],
      "metadata": {
        "id": "PBmurYJa6AR3",
        "outputId": "6bcca79b-a273-4034-c82a-0a28f8de7fda",
        "colab": {
          "base_uri": "https://localhost:8080/"
        }
      },
      "execution_count": 35,
      "outputs": [
        {
          "output_type": "stream",
          "name": "stdout",
          "text": [
            "+------+----------+------+----------+------------+-------+-----------+---------+---------------------+\n",
            "|cif_id|account_no|amount|department|Pride_rating|loan_no|loan_amount|loan_type|last_date_for_payment|\n",
            "+------+----------+------+----------+------------+-------+-----------+---------+---------------------+\n",
            "+------+----------+------+----------+------------+-------+-----------+---------+---------------------+\n",
            "\n",
            "+------+----------+------+----------+------------+\n",
            "|cif_id|account_no|amount|department|Pride_rating|\n",
            "+------+----------+------+----------+------------+\n",
            "|  1222|       A01| 50000|       C2E|         3.0|\n",
            "|  1353|       A03| 50000|       MOT|         1.0|\n",
            "|  1262|       B01|100000|       IIT|         2.5|\n",
            "|  1373|       BC2|300000|       C2E|         1.5|\n",
            "+------+----------+------+----------+------------+\n",
            "\n"
          ]
        }
      ]
    },
    {
      "cell_type": "code",
      "source": [
        "#@title Q4 Merge table A table B if A."
      ],
      "metadata": {
        "id": "5Ga8wnE7TFUB"
      },
      "execution_count": null,
      "outputs": []
    },
    {
      "cell_type": "code",
      "source": [
        "#@title Q5  For table C create a new column and add saving and current accnt\n",
        "Q5_df = withoutscpace_tableC_df.withColumn('total', isnull(col('saving_acc')) + isnull(col('current_acct')))\n",
        "Q5_df.show()"
      ],
      "metadata": {
        "id": "XhMBOOeUTFIF",
        "cellView": "form",
        "outputId": "c4f3c429-7eb9-45a9-f990-c2d6d622233e",
        "colab": {
          "base_uri": "https://localhost:8080/",
          "height": 529
        }
      },
      "execution_count": 31,
      "outputs": [
        {
          "output_type": "error",
          "ename": "AnalysisException",
          "evalue": "ignored",
          "traceback": [
            "\u001b[0;31m---------------------------------------------------------------------------\u001b[0m",
            "\u001b[0;31mAnalysisException\u001b[0m                         Traceback (most recent call last)",
            "\u001b[0;32m<ipython-input-31-24bde3d418e7>\u001b[0m in \u001b[0;36m<cell line: 2>\u001b[0;34m()\u001b[0m\n\u001b[1;32m      1\u001b[0m \u001b[0;31m#@title Q5  For table C create a new column and add saving and current accnt\u001b[0m\u001b[0;34m\u001b[0m\u001b[0;34m\u001b[0m\u001b[0m\n\u001b[0;32m----> 2\u001b[0;31m \u001b[0mQ5_df\u001b[0m \u001b[0;34m=\u001b[0m \u001b[0mwithoutscpace_tableC_df\u001b[0m\u001b[0;34m.\u001b[0m\u001b[0mwithColumn\u001b[0m\u001b[0;34m(\u001b[0m\u001b[0;34m'total'\u001b[0m\u001b[0;34m,\u001b[0m \u001b[0misnull\u001b[0m\u001b[0;34m(\u001b[0m\u001b[0mcol\u001b[0m\u001b[0;34m(\u001b[0m\u001b[0;34m'saving_acc'\u001b[0m\u001b[0;34m)\u001b[0m\u001b[0;34m)\u001b[0m \u001b[0;34m+\u001b[0m \u001b[0misnull\u001b[0m\u001b[0;34m(\u001b[0m\u001b[0mcol\u001b[0m\u001b[0;34m(\u001b[0m\u001b[0;34m'current_acct'\u001b[0m\u001b[0;34m)\u001b[0m\u001b[0;34m)\u001b[0m\u001b[0;34m)\u001b[0m\u001b[0;34m\u001b[0m\u001b[0;34m\u001b[0m\u001b[0m\n\u001b[0m\u001b[1;32m      3\u001b[0m \u001b[0mQ5_df\u001b[0m\u001b[0;34m.\u001b[0m\u001b[0mshow\u001b[0m\u001b[0;34m(\u001b[0m\u001b[0;34m)\u001b[0m\u001b[0;34m\u001b[0m\u001b[0;34m\u001b[0m\u001b[0m\n",
            "\u001b[0;32m/usr/local/lib/python3.10/dist-packages/pyspark/sql/dataframe.py\u001b[0m in \u001b[0;36mwithColumn\u001b[0;34m(self, colName, col)\u001b[0m\n\u001b[1;32m   4787\u001b[0m                 \u001b[0mmessage_parameters\u001b[0m\u001b[0;34m=\u001b[0m\u001b[0;34m{\u001b[0m\u001b[0;34m\"arg_name\"\u001b[0m\u001b[0;34m:\u001b[0m \u001b[0;34m\"col\"\u001b[0m\u001b[0;34m,\u001b[0m \u001b[0;34m\"arg_type\"\u001b[0m\u001b[0;34m:\u001b[0m \u001b[0mtype\u001b[0m\u001b[0;34m(\u001b[0m\u001b[0mcol\u001b[0m\u001b[0;34m)\u001b[0m\u001b[0;34m.\u001b[0m\u001b[0m__name__\u001b[0m\u001b[0;34m}\u001b[0m\u001b[0;34m,\u001b[0m\u001b[0;34m\u001b[0m\u001b[0;34m\u001b[0m\u001b[0m\n\u001b[1;32m   4788\u001b[0m             )\n\u001b[0;32m-> 4789\u001b[0;31m         \u001b[0;32mreturn\u001b[0m \u001b[0mDataFrame\u001b[0m\u001b[0;34m(\u001b[0m\u001b[0mself\u001b[0m\u001b[0;34m.\u001b[0m\u001b[0m_jdf\u001b[0m\u001b[0;34m.\u001b[0m\u001b[0mwithColumn\u001b[0m\u001b[0;34m(\u001b[0m\u001b[0mcolName\u001b[0m\u001b[0;34m,\u001b[0m \u001b[0mcol\u001b[0m\u001b[0;34m.\u001b[0m\u001b[0m_jc\u001b[0m\u001b[0;34m)\u001b[0m\u001b[0;34m,\u001b[0m \u001b[0mself\u001b[0m\u001b[0;34m.\u001b[0m\u001b[0msparkSession\u001b[0m\u001b[0;34m)\u001b[0m\u001b[0;34m\u001b[0m\u001b[0;34m\u001b[0m\u001b[0m\n\u001b[0m\u001b[1;32m   4790\u001b[0m \u001b[0;34m\u001b[0m\u001b[0m\n\u001b[1;32m   4791\u001b[0m     \u001b[0;32mdef\u001b[0m \u001b[0mwithColumnRenamed\u001b[0m\u001b[0;34m(\u001b[0m\u001b[0mself\u001b[0m\u001b[0;34m,\u001b[0m \u001b[0mexisting\u001b[0m\u001b[0;34m:\u001b[0m \u001b[0mstr\u001b[0m\u001b[0;34m,\u001b[0m \u001b[0mnew\u001b[0m\u001b[0;34m:\u001b[0m \u001b[0mstr\u001b[0m\u001b[0;34m)\u001b[0m \u001b[0;34m->\u001b[0m \u001b[0;34m\"DataFrame\"\u001b[0m\u001b[0;34m:\u001b[0m\u001b[0;34m\u001b[0m\u001b[0;34m\u001b[0m\u001b[0m\n",
            "\u001b[0;32m/usr/local/lib/python3.10/dist-packages/py4j/java_gateway.py\u001b[0m in \u001b[0;36m__call__\u001b[0;34m(self, *args)\u001b[0m\n\u001b[1;32m   1320\u001b[0m \u001b[0;34m\u001b[0m\u001b[0m\n\u001b[1;32m   1321\u001b[0m         \u001b[0manswer\u001b[0m \u001b[0;34m=\u001b[0m \u001b[0mself\u001b[0m\u001b[0;34m.\u001b[0m\u001b[0mgateway_client\u001b[0m\u001b[0;34m.\u001b[0m\u001b[0msend_command\u001b[0m\u001b[0;34m(\u001b[0m\u001b[0mcommand\u001b[0m\u001b[0;34m)\u001b[0m\u001b[0;34m\u001b[0m\u001b[0;34m\u001b[0m\u001b[0m\n\u001b[0;32m-> 1322\u001b[0;31m         return_value = get_return_value(\n\u001b[0m\u001b[1;32m   1323\u001b[0m             answer, self.gateway_client, self.target_id, self.name)\n\u001b[1;32m   1324\u001b[0m \u001b[0;34m\u001b[0m\u001b[0m\n",
            "\u001b[0;32m/usr/local/lib/python3.10/dist-packages/pyspark/errors/exceptions/captured.py\u001b[0m in \u001b[0;36mdeco\u001b[0;34m(*a, **kw)\u001b[0m\n\u001b[1;32m    173\u001b[0m                 \u001b[0;31m# Hide where the exception came from that shows a non-Pythonic\u001b[0m\u001b[0;34m\u001b[0m\u001b[0;34m\u001b[0m\u001b[0m\n\u001b[1;32m    174\u001b[0m                 \u001b[0;31m# JVM exception message.\u001b[0m\u001b[0;34m\u001b[0m\u001b[0;34m\u001b[0m\u001b[0m\n\u001b[0;32m--> 175\u001b[0;31m                 \u001b[0;32mraise\u001b[0m \u001b[0mconverted\u001b[0m \u001b[0;32mfrom\u001b[0m \u001b[0;32mNone\u001b[0m\u001b[0;34m\u001b[0m\u001b[0;34m\u001b[0m\u001b[0m\n\u001b[0m\u001b[1;32m    176\u001b[0m             \u001b[0;32melse\u001b[0m\u001b[0;34m:\u001b[0m\u001b[0;34m\u001b[0m\u001b[0;34m\u001b[0m\u001b[0m\n\u001b[1;32m    177\u001b[0m                 \u001b[0;32mraise\u001b[0m\u001b[0;34m\u001b[0m\u001b[0;34m\u001b[0m\u001b[0m\n",
            "\u001b[0;31mAnalysisException\u001b[0m: [DATATYPE_MISMATCH.BINARY_OP_WRONG_TYPE] Cannot resolve \"((saving_acc IS NULL) + (current_acct IS NULL))\" due to data type mismatch: the binary operator requires the input type (\"NUMERIC\" or \"INTERVAL DAY TO SECOND\" or \"INTERVAL YEAR TO MONTH\" or \"INTERVAL\"), not \"BOOLEAN\".;\n'Project [acct_no#71, saving_acc#72, current_acct#73, open_date#164, (isnull(saving_acc#72) + isnull(current_acct#73)) AS total#658]\n+- Project [acct_no#71, saving_acc#72, current_acct#73, date_format(cast(to_date(open_date#159, Some(dd-MM-yyyy), Some(Etc/UTC)) as timestamp), yyyy-MM-dd, Some(Etc/UTC)) AS open_date#164]\n   +- Project [acct_no#71, saving_acc#72, current_acct#73, coalesce(open_date#74, cast( as string)) AS open_date#159]\n      +- Relation [acct_no#71,saving_acc#72,current_acct#73,open_date#74] csv\n"
          ]
        }
      ]
    },
    {
      "cell_type": "markdown",
      "source": [],
      "metadata": {
        "id": "yVL6Wdjl2hFz"
      }
    },
    {
      "cell_type": "code",
      "source": [
        "#@title Q6 For table C create a new Column which have open_date in format YYYMMM\n",
        "Q6_df = withoutscpace_tableC_df.withColumn(\"new date\", date_format(col('open_date'), 'yyyyMM'))\n",
        "Q6_df.show()"
      ],
      "metadata": {
        "id": "1elIU8wl6AJf",
        "outputId": "d8de4a3c-4d9a-45f4-f897-f0bf0735fbe1",
        "colab": {
          "base_uri": "https://localhost:8080/"
        }
      },
      "execution_count": 32,
      "outputs": [
        {
          "output_type": "stream",
          "name": "stdout",
          "text": [
            "+-------+----------+------------+----------+--------+\n",
            "|acct_no|saving_acc|current_acct| open_date|new date|\n",
            "+-------+----------+------------+----------+--------+\n",
            "|     12|     20000|       50000|2023-07-01|  202307|\n",
            "|     21|     30000|       60000|2022-06-23|  202206|\n",
            "|     31|     30000|        null|      null|    null|\n",
            "|     13|    100000|        null|2023-07-02|  202307|\n",
            "|     41|      null|        null|2023-01-10|  202301|\n",
            "|     14|    320000|      600000|2022-01-05|  202201|\n",
            "+-------+----------+------------+----------+--------+\n",
            "\n"
          ]
        }
      ]
    },
    {
      "cell_type": "code",
      "source": [
        "#@title Q7 For table A group by deparment order of all column amonut > 1L\n",
        "Q_7 = table_A_df.filter(col('amount') > 100000).groupBy(col('department')).agg(count(col('cif_id')).alias('count')).orderBy('count')\n",
        "Q_7.show()"
      ],
      "metadata": {
        "id": "Ex7Go1s7_XLl",
        "outputId": "b1e6107a-e92c-4ede-9277-7588abd4324c",
        "colab": {
          "base_uri": "https://localhost:8080/"
        }
      },
      "execution_count": 33,
      "outputs": [
        {
          "output_type": "stream",
          "name": "stdout",
          "text": [
            "+----------+-----+\n",
            "|department|count|\n",
            "+----------+-----+\n",
            "|       C2E|    1|\n",
            "+----------+-----+\n",
            "\n"
          ]
        }
      ]
    },
    {
      "cell_type": "code",
      "source": [],
      "metadata": {
        "id": "sVJ5WT4N_XBi"
      },
      "execution_count": null,
      "outputs": []
    },
    {
      "cell_type": "code",
      "source": [],
      "metadata": {
        "id": "c_1xYSYV6yVc"
      },
      "execution_count": null,
      "outputs": []
    }
  ]
}