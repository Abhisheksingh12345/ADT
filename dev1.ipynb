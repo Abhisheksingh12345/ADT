{
  "nbformat": 4,
  "nbformat_minor": 0,
  "metadata": {
    "colab": {
      "provenance": [],
      "authorship_tag": "ABX9TyPX/4NcoSJiKsMe3+Athajw",
      "include_colab_link": true
    },
    "kernelspec": {
      "name": "python3",
      "display_name": "Python 3"
    },
    "language_info": {
      "name": "python"
    }
  },
  "cells": [
    {
      "cell_type": "markdown",
      "metadata": {
        "id": "view-in-github",
        "colab_type": "text"
      },
      "source": [
        "<a href=\"https://colab.research.google.com/github/Abhisheksingh12345/ADT/blob/master/dev1.ipynb\" target=\"_parent\"><img src=\"https://colab.research.google.com/assets/colab-badge.svg\" alt=\"Open In Colab\"/></a>"
      ]
    },
    {
      "cell_type": "code",
      "execution_count": 20,
      "metadata": {
        "colab": {
          "base_uri": "https://localhost:8080/"
        },
        "id": "Jeo15bke1YyR",
        "outputId": "57e6b7c4-8d38-416e-f188-aaff9eebce97"
      },
      "outputs": [
        {
          "output_type": "stream",
          "name": "stdout",
          "text": [
            "Drive already mounted at /content/drive; to attempt to forcibly remount, call drive.mount(\"/content/drive\", force_remount=True).\n"
          ]
        }
      ],
      "source": [
        "from google.colab import drive\n",
        "drive.mount('/content/drive')"
      ]
    },
    {
      "cell_type": "code",
      "source": [
        "pip install pyspark"
      ],
      "metadata": {
        "id": "V8hpQgOq1fvr"
      },
      "execution_count": null,
      "outputs": []
    },
    {
      "cell_type": "code",
      "source": [
        "from pyspark.sql import SparkSession\n",
        "from pyspark.sql.functions import *\n",
        "import matplotlib.pyplot as plts"
      ],
      "metadata": {
        "id": "lI_QldMi6xe1"
      },
      "execution_count": null,
      "outputs": []
    },
    {
      "cell_type": "code",
      "source": [
        "spark = SparkSession.builder.appName('dev_1').master('local[4]').getOrCreate()"
      ],
      "metadata": {
        "id": "HiRlrDKS6xtW"
      },
      "execution_count": 54,
      "outputs": []
    },
    {
      "cell_type": "code",
      "source": [
        "sc = spark.sparkContext"
      ],
      "metadata": {
        "id": "lWN1sXdo6x45"
      },
      "execution_count": null,
      "outputs": []
    },
    {
      "cell_type": "markdown",
      "source": [],
      "metadata": {
        "id": "1XEgZqJgDu-N"
      }
    },
    {
      "cell_type": "code",
      "source": [
        "table_A_path = '/content/drive/MyDrive/datasets/Table_A.csv'\n",
        "table_B_path = '/content/drive/MyDrive/datasets/Table_B.csv'\n",
        "table_C_path = '/content/drive/MyDrive/datasets/Table_C.csv'"
      ],
      "metadata": {
        "id": "GHUlnBc66x-E"
      },
      "execution_count": null,
      "outputs": []
    },
    {
      "cell_type": "code",
      "source": [
        "table_A_df = spark.read.format('csv').option('inferSchema',True).option('header',True).load(table_A_path)"
      ],
      "metadata": {
        "id": "UTkJE3ia6yA4"
      },
      "execution_count": null,
      "outputs": []
    },
    {
      "cell_type": "code",
      "source": [
        "table_B_df = spark.read.format('csv').option('inferSchema',True).option('header',True).load(table_B_path)"
      ],
      "metadata": {
        "id": "nSFgIF2c6yGd"
      },
      "execution_count": null,
      "outputs": []
    },
    {
      "cell_type": "code",
      "source": [
        "table_C_df = spark.read.format('csv').option('inferSchema',True).option('header',True).load(table_C_path)"
      ],
      "metadata": {
        "id": "Ad0YEO6O6yIv"
      },
      "execution_count": 22,
      "outputs": []
    },
    {
      "cell_type": "code",
      "source": [
        "table_A_df.coalesce"
      ],
      "metadata": {
        "colab": {
          "base_uri": "https://localhost:8080/"
        },
        "id": "9mM8wHET_duZ",
        "outputId": "b675295a-fd38-4dcb-e662-71fd9ead0538"
      },
      "execution_count": null,
      "outputs": [
        {
          "output_type": "execute_result",
          "data": {
            "text/plain": [
              "<bound method DataFrame.coalesce of DataFrame[cif_id: double,  account_no: string,  amount: double,  department: string,   Pride_rating: double, _c5: string]>"
            ]
          },
          "metadata": {},
          "execution_count": 25
        }
      ]
    },
    {
      "cell_type": "code",
      "source": [
        "withoutscpace_tableC_df = table_C_df.na.fill(\"\").withColumn(\"open_date\",date_format(to_date(col(\"open_date\"), \"dd-MM-yyyy\"), \"yyyy-MM-dd\"))"
      ],
      "metadata": {
        "id": "G1_hNqGu6ySb"
      },
      "execution_count": 50,
      "outputs": []
    },
    {
      "cell_type": "code",
      "source": [
        "withoutscpace_tableC_df.show()"
      ],
      "metadata": {
        "id": "ucVnwYDw_XWR"
      },
      "execution_count": null,
      "outputs": []
    },
    {
      "cell_type": "code",
      "source": [
        "#@title Q3 Merge table A table B if A, loan no is null and last_date payroll >= 2024 then delete whole row\n",
        "Q_3_df = table_A_df.join(table_B_df, on=[\"cif_id\"], how=\"left_outer\") \\\n",
        "  .filter((table_B_df[\"loan_no\"].isNull()) & (table_B_df[\"last_date_for_payment\"] >= \"2024-01-01\"))\n",
        "Q_3_df.show()\n",
        "Q_3_= table_A_df.join(Q_3_df.select(\"cif_id\"), on=[\"cif_id\"], how=\"left_anti\")\n",
        "Q_3.show()\n"
      ],
      "metadata": {
        "cellView": "form",
        "id": "PBmurYJa6AR3"
      },
      "execution_count": null,
      "outputs": []
    },
    {
      "cell_type": "code",
      "source": [
        "#@title Q6 For table C create a new Column which have open_date in format YYYMMM\n",
        "Q6_df = withoutscpace_tableC_df.withColumn(\"new date\", date_format(col('open_date'), 'yyyyMM'))\n",
        "Q6_df.show()"
      ],
      "metadata": {
        "cellView": "form",
        "id": "1elIU8wl6AJf"
      },
      "execution_count": null,
      "outputs": []
    },
    {
      "cell_type": "code",
      "source": [
        "#@title Q7 For table A group by deparment order of all column amonut > 1L\n",
        "Q_7 = table_A_df.filter(col('amount') > 100000).groupBy(col('department')).agg(count(col('cif_id')).alias('count')).orderBy('count')\n",
        "Q_7.show()"
      ],
      "metadata": {
        "id": "Ex7Go1s7_XLl",
        "cellView": "form"
      },
      "execution_count": null,
      "outputs": []
    },
    {
      "cell_type": "code",
      "source": [],
      "metadata": {
        "id": "sVJ5WT4N_XBi"
      },
      "execution_count": null,
      "outputs": []
    },
    {
      "cell_type": "code",
      "source": [],
      "metadata": {
        "id": "c_1xYSYV6yVc"
      },
      "execution_count": null,
      "outputs": []
    }
  ]
}