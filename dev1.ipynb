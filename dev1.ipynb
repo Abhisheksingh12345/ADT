{
  "nbformat": 4,
  "nbformat_minor": 0,
  "metadata": {
    "colab": {
      "provenance": [],
      "authorship_tag": "ABX9TyM6raYDYIJeG263O79pzqHc",
      "include_colab_link": true
    },
    "kernelspec": {
      "name": "python3",
      "display_name": "Python 3"
    },
    "language_info": {
      "name": "python"
    }
  },
  "cells": [
    {
      "cell_type": "markdown",
      "metadata": {
        "id": "view-in-github",
        "colab_type": "text"
      },
      "source": [
        "<a href=\"https://colab.research.google.com/github/Abhisheksingh12345/ADT/blob/master/dev1.ipynb\" target=\"_parent\"><img src=\"https://colab.research.google.com/assets/colab-badge.svg\" alt=\"Open In Colab\"/></a>"
      ]
    },
    {
      "cell_type": "code",
      "execution_count": 2,
      "metadata": {
        "colab": {
          "base_uri": "https://localhost:8080/",
          "height": 0
        },
        "id": "Jeo15bke1YyR",
        "outputId": "1f5f2e06-c42a-4b33-ed58-fd127c6b73e5"
      },
      "outputs": [
        {
          "output_type": "stream",
          "name": "stdout",
          "text": [
            "Drive already mounted at /content/drive; to attempt to forcibly remount, call drive.mount(\"/content/drive\", force_remount=True).\n"
          ]
        }
      ],
      "source": [
        "from google.colab import drive\n",
        "drive.mount('/content/drive')"
      ]
    },
    {
      "cell_type": "code",
      "source": [
        "pip install pyspark"
      ],
      "metadata": {
        "id": "V8hpQgOq1fvr",
        "outputId": "275ef3cc-9655-44bf-eea1-2d955ca9c754",
        "colab": {
          "base_uri": "https://localhost:8080/",
          "height": 0
        }
      },
      "execution_count": 3,
      "outputs": [
        {
          "output_type": "stream",
          "name": "stdout",
          "text": [
            "Requirement already satisfied: pyspark in /usr/local/lib/python3.10/dist-packages (3.4.1)\n",
            "Requirement already satisfied: py4j==0.10.9.7 in /usr/local/lib/python3.10/dist-packages (from pyspark) (0.10.9.7)\n"
          ]
        }
      ]
    },
    {
      "cell_type": "code",
      "source": [
        "from pyspark.sql import SparkSession\n",
        "from pyspark.sql.functions import *\n",
        "import matplotlib.pyplot as plts"
      ],
      "metadata": {
        "id": "lI_QldMi6xe1"
      },
      "execution_count": 4,
      "outputs": []
    },
    {
      "cell_type": "code",
      "source": [
        "spark = SparkSession.builder.appName('dev_1').master('local[4]').getOrCreate()"
      ],
      "metadata": {
        "id": "HiRlrDKS6xtW"
      },
      "execution_count": 5,
      "outputs": []
    },
    {
      "cell_type": "code",
      "source": [
        "sc = spark.sparkContext"
      ],
      "metadata": {
        "id": "lWN1sXdo6x45"
      },
      "execution_count": 6,
      "outputs": []
    },
    {
      "cell_type": "markdown",
      "source": [],
      "metadata": {
        "id": "1XEgZqJgDu-N"
      }
    },
    {
      "cell_type": "code",
      "source": [
        "table_A_path = '/content/drive/MyDrive/datasets/Table_A.csv'\n",
        "table_B_path = '/content/drive/MyDrive/datasets/Table_B.csv'\n",
        "table_C_path = '/content/drive/MyDrive/datasets/Table_C.csv'"
      ],
      "metadata": {
        "id": "GHUlnBc66x-E"
      },
      "execution_count": 7,
      "outputs": []
    },
    {
      "cell_type": "code",
      "source": [
        "table_A_df = spark.read.format('csv').option('inferSchema',True).option('header',True).load(table_A_path)"
      ],
      "metadata": {
        "id": "UTkJE3ia6yA4"
      },
      "execution_count": 8,
      "outputs": []
    },
    {
      "cell_type": "code",
      "source": [
        "table_B_df = spark.read.format('csv').option('inferSchema',True).option('header',True).load(table_B_path)"
      ],
      "metadata": {
        "id": "nSFgIF2c6yGd"
      },
      "execution_count": 9,
      "outputs": []
    },
    {
      "cell_type": "code",
      "source": [
        "table_C_df = spark.read.format('csv').option('inferSchema',True).option('header',True).load(table_C_path)"
      ],
      "metadata": {
        "id": "Ad0YEO6O6yIv"
      },
      "execution_count": 10,
      "outputs": []
    },
    {
      "cell_type": "code",
      "source": [
        "table_A_df.show()"
      ],
      "metadata": {
        "id": "2RD_kekjSOTh",
        "outputId": "b745c1f5-1b68-4a32-f987-c1204d2d991d",
        "colab": {
          "base_uri": "https://localhost:8080/",
          "height": 0
        }
      },
      "execution_count": 11,
      "outputs": [
        {
          "output_type": "stream",
          "name": "stdout",
          "text": [
            "+------+----------+------+----------+------------+\n",
            "|cif_id|account_no|amount|department|Pride_rating|\n",
            "+------+----------+------+----------+------------+\n",
            "|  1222|       A01| 50000|       C2E|         3.0|\n",
            "|  1353|       A03| 50000|       MOT|         1.0|\n",
            "|  1262|       B01|100000|       IIT|         2.5|\n",
            "|  1373|       BC2|300000|       C2E|         1.5|\n",
            "+------+----------+------+----------+------------+\n",
            "\n"
          ]
        }
      ]
    },
    {
      "cell_type": "code",
      "source": [
        "table_B_df.show()"
      ],
      "metadata": {
        "id": "zG7pl15KSOIH",
        "outputId": "4a24ad8c-9b46-4c6d-8b19-507fcb2a689a",
        "colab": {
          "base_uri": "https://localhost:8080/",
          "height": 0
        }
      },
      "execution_count": 12,
      "outputs": [
        {
          "output_type": "stream",
          "name": "stdout",
          "text": [
            "+------+-------+-----------+---------+---------------------+\n",
            "|cif_id|loan_no|loan_amount|loan_type|last_date_for_payment|\n",
            "+------+-------+-----------+---------+---------------------+\n",
            "|  1222|    A01|     100000|     HOME|           2023-09-31|\n",
            "|  1353|    A03|     200000| PERSONAL|           2024-01-02|\n",
            "|  1046|    C21|     100000|      CAR|           2023-10-11|\n",
            "|  1400|    C23|     300000|     HOME|           2023-10-15|\n",
            "|  1501|    D12|     400000|EDUCATION|           2024-01-02|\n",
            "+------+-------+-----------+---------+---------------------+\n",
            "\n"
          ]
        }
      ]
    },
    {
      "cell_type": "code",
      "source": [
        "table_C_df.show()"
      ],
      "metadata": {
        "id": "7K85_4c4SN5R",
        "outputId": "ad5011aa-b5aa-4d16-bd44-bc04952fbebf",
        "colab": {
          "base_uri": "https://localhost:8080/",
          "height": 0
        }
      },
      "execution_count": 13,
      "outputs": [
        {
          "output_type": "stream",
          "name": "stdout",
          "text": [
            "+-------+----------+------------+-----------+\n",
            "|acct_no|saving_acc|current_acct|  open_date|\n",
            "+-------+----------+------------+-----------+\n",
            "|     12|     20000|       50000| 01-07-2023|\n",
            "|     21|     30000|       60000| 23-06-2022|\n",
            "|     31|     30000|        null| 2021-05-23|\n",
            "|     13|    100000|        null| 02-07-2023|\n",
            "|     41|      null|        null| 10-01-2023|\n",
            "|     14|    320000|      600000| 05-01-2022|\n",
            "+-------+----------+------------+-----------+\n",
            "\n"
          ]
        }
      ]
    },
    {
      "cell_type": "code",
      "source": [
        "withoutscpace_tableC_df = table_C_df.na.fill(\"\").withColumn(\"open_date\",date_format(to_date(col(\"open_date\"), \"dd-MM-yyyy\"), \"yyyy-MM-dd\"))"
      ],
      "metadata": {
        "id": "G1_hNqGu6ySb"
      },
      "execution_count": 14,
      "outputs": []
    },
    {
      "cell_type": "code",
      "source": [
        "withoutscpace_tableC_df.show()"
      ],
      "metadata": {
        "id": "ucVnwYDw_XWR",
        "outputId": "0190bb68-8900-4c64-a0cc-935c19328843",
        "colab": {
          "base_uri": "https://localhost:8080/",
          "height": 0
        }
      },
      "execution_count": 15,
      "outputs": [
        {
          "output_type": "stream",
          "name": "stdout",
          "text": [
            "+-------+----------+------------+----------+\n",
            "|acct_no|saving_acc|current_acct| open_date|\n",
            "+-------+----------+------------+----------+\n",
            "|     12|     20000|       50000|2023-07-01|\n",
            "|     21|     30000|       60000|2022-06-23|\n",
            "|     31|     30000|        null|      null|\n",
            "|     13|    100000|        null|2023-07-02|\n",
            "|     41|      null|        null|2023-01-10|\n",
            "|     14|    320000|      600000|2022-01-05|\n",
            "+-------+----------+------------+----------+\n",
            "\n"
          ]
        }
      ]
    },
    {
      "cell_type": "code",
      "source": [
        "#@title Q1 merge table A and B (common column cf_id) if B not A if loan_number='D12' then delete\n",
        "\n",
        "join_df = table_A_df.join(table_B_df, on = \"cif_id\", how = 'outer')\n",
        "rows_to_delete_df = join_df.filter(col('account_no') == 'D12')\n",
        "Q1_df = table_A_df.join (table_B_df ,on = 'cif_id', how = 'left_anti')\n",
        "Q1_df.show()\n",
        "\n"
      ],
      "metadata": {
        "id": "AMNBsjQHTFaj",
        "colab": {
          "base_uri": "https://localhost:8080/",
          "height": 0
        },
        "outputId": "7109619a-5759-4fec-f411-0004c74c2a39"
      },
      "execution_count": 16,
      "outputs": [
        {
          "output_type": "stream",
          "name": "stdout",
          "text": [
            "+------+----------+------+----------+------------+\n",
            "|cif_id|account_no|amount|department|Pride_rating|\n",
            "+------+----------+------+----------+------------+\n",
            "|  1262|       B01|100000|       IIT|         2.5|\n",
            "|  1373|       BC2|300000|       C2E|         1.5|\n",
            "+------+----------+------+----------+------------+\n",
            "\n"
          ]
        }
      ]
    },
    {
      "cell_type": "code",
      "source": [
        "# @title Q1-part2 ->\n",
        "\n",
        "merged_df = table_A_df.join(table_B_df, \"cif_id\", \"inner\")\n",
        "result_df = merged_df.withColumn(\n",
        "   \"pride_rating_category\",\n",
        "   when(col(\"pride_rating\") >= 3, \"excellence\")\n",
        "   .when((col(\"pride_rating\") > 1.5) & (col(\"pride_rating\") < 3), \"average\")\n",
        "   .otherwise(\"below average\")\n",
        ")\n",
        "result_df.show()"
      ],
      "metadata": {
        "colab": {
          "base_uri": "https://localhost:8080/",
          "height": 0
        },
        "id": "FsjWue7GcS8r",
        "outputId": "1656f0d4-d8a4-4c9a-d0aa-660de16796dc"
      },
      "execution_count": 17,
      "outputs": [
        {
          "output_type": "stream",
          "name": "stdout",
          "text": [
            "+------+----------+------+----------+------------+-------+-----------+---------+---------------------+---------------------+\n",
            "|cif_id|account_no|amount|department|Pride_rating|loan_no|loan_amount|loan_type|last_date_for_payment|pride_rating_category|\n",
            "+------+----------+------+----------+------------+-------+-----------+---------+---------------------+---------------------+\n",
            "|  1222|       A01| 50000|       C2E|         3.0|    A01|     100000|     HOME|           2023-09-31|           excellence|\n",
            "|  1353|       A03| 50000|       MOT|         1.0|    A03|     200000| PERSONAL|           2024-01-02|        below average|\n",
            "+------+----------+------+----------+------------+-------+-----------+---------+---------------------+---------------------+\n",
            "\n"
          ]
        }
      ]
    },
    {
      "cell_type": "code",
      "source": [
        "#@title Q2 Merge table A and table B if A or B, find second highest amount for each department\n",
        "from pyspark.sql.window import Window\n",
        "mergeA_B_df = table_A_df.join(table_B_df, on = 'cif_id', how = \"full\")\n",
        "mergeA_B_2df = mergeA_B_df.coalesce(4)\n",
        "window_spec = Window.partitionBy(\"department\").orderBy(col(\"amount\").desc())\n",
        "merged_df = mergeA_B_2df.withColumn(\"row_num\", row_number().over(window_spec))\n",
        "secound_highest = merged_df.filter( col('department').isNull and (col('row_num') == 2))\n",
        "secound_highest.show()"
      ],
      "metadata": {
        "id": "88FgCCmaTFXD",
        "outputId": "e674932a-c1d8-4c47-b32b-a4805f69c0b6",
        "colab": {
          "base_uri": "https://localhost:8080/",
          "height": 0
        }
      },
      "execution_count": 18,
      "outputs": [
        {
          "output_type": "stream",
          "name": "stdout",
          "text": [
            "+------+----------+------+----------+------------+-------+-----------+---------+---------------------+-------+\n",
            "|cif_id|account_no|amount|department|Pride_rating|loan_no|loan_amount|loan_type|last_date_for_payment|row_num|\n",
            "+------+----------+------+----------+------------+-------+-----------+---------+---------------------+-------+\n",
            "|  1400|      null|  null|      null|        null|    C23|     300000|     HOME|           2023-10-15|      2|\n",
            "|  1222|       A01| 50000|       C2E|         3.0|    A01|     100000|     HOME|           2023-09-31|      2|\n",
            "+------+----------+------+----------+------------+-------+-----------+---------+---------------------+-------+\n",
            "\n"
          ]
        }
      ]
    },
    {
      "cell_type": "code",
      "source": [
        "#@title Q3 Merge table A table B if A, loan no is null and last_date payroll >= 2024 then delete whole row\n",
        "Q_3_df = table_A_df.join(table_B_df, on=[\"cif_id\"], how=\"left_outer\") \\\n",
        "  .filter((table_B_df[\"loan_no\"].isNull()) & (table_B_df[\"last_date_for_payment\"] >= \"2024-01-01\"))\n",
        "Q_3_df.show()\n",
        "Q_3_= table_A_df.join(Q_3_df.select(\"cif_id\"), on=[\"cif_id\"], how=\"left_anti\")\n",
        "Q_3_.show()\n"
      ],
      "metadata": {
        "id": "PBmurYJa6AR3",
        "outputId": "f6021f66-28ee-4207-9f5c-2a21c04363d6",
        "colab": {
          "base_uri": "https://localhost:8080/",
          "height": 0
        }
      },
      "execution_count": 19,
      "outputs": [
        {
          "output_type": "stream",
          "name": "stdout",
          "text": [
            "+------+----------+------+----------+------------+-------+-----------+---------+---------------------+\n",
            "|cif_id|account_no|amount|department|Pride_rating|loan_no|loan_amount|loan_type|last_date_for_payment|\n",
            "+------+----------+------+----------+------------+-------+-----------+---------+---------------------+\n",
            "+------+----------+------+----------+------------+-------+-----------+---------+---------------------+\n",
            "\n",
            "+------+----------+------+----------+------------+\n",
            "|cif_id|account_no|amount|department|Pride_rating|\n",
            "+------+----------+------+----------+------------+\n",
            "|  1222|       A01| 50000|       C2E|         3.0|\n",
            "|  1353|       A03| 50000|       MOT|         1.0|\n",
            "|  1262|       B01|100000|       IIT|         2.5|\n",
            "|  1373|       BC2|300000|       C2E|         1.5|\n",
            "+------+----------+------+----------+------------+\n",
            "\n"
          ]
        }
      ]
    },
    {
      "cell_type": "code",
      "source": [
        "#@title Q4 Merge table A table B if A.\n",
        "merge_Q4_df = table_A_df.join(table_B_df, on = 'cif_id', how = 'left')\n",
        "merge_Q4_df.show()"
      ],
      "metadata": {
        "id": "5Ga8wnE7TFUB",
        "colab": {
          "base_uri": "https://localhost:8080/",
          "height": 0
        },
        "outputId": "afbf5654-52a2-4422-ee64-d55e7aa21d9c"
      },
      "execution_count": 20,
      "outputs": [
        {
          "output_type": "stream",
          "name": "stdout",
          "text": [
            "+------+----------+------+----------+------------+-------+-----------+---------+---------------------+\n",
            "|cif_id|account_no|amount|department|Pride_rating|loan_no|loan_amount|loan_type|last_date_for_payment|\n",
            "+------+----------+------+----------+------------+-------+-----------+---------+---------------------+\n",
            "|  1222|       A01| 50000|       C2E|         3.0|    A01|     100000|     HOME|           2023-09-31|\n",
            "|  1353|       A03| 50000|       MOT|         1.0|    A03|     200000| PERSONAL|           2024-01-02|\n",
            "|  1262|       B01|100000|       IIT|         2.5|   null|       null|     null|                 null|\n",
            "|  1373|       BC2|300000|       C2E|         1.5|   null|       null|     null|                 null|\n",
            "+------+----------+------+----------+------------+-------+-----------+---------+---------------------+\n",
            "\n"
          ]
        }
      ]
    },
    {
      "cell_type": "code",
      "source": [
        "#@title Q5  For table C create a new column and add saving and current accnt\n",
        "Q5_df = withoutscpace_tableC_df.withColumn('total',coalesce(col(\"saving_acc\"), lit(0)) + coalesce(col(\"current_acct\"), lit(0)))\n",
        "# (coalesce(col(\"Saving_account\"), lit(0)) + coalesce(col(\"current_account\"), lit(0))).alias(\"total_amount\"),\n",
        "\n",
        "#    col(\"open_date\")\n",
        "\n",
        "\n",
        "Q5_df.show()"
      ],
      "metadata": {
        "id": "XhMBOOeUTFIF",
        "outputId": "1f5b34b6-b298-43d8-a25d-d03028734cdf",
        "colab": {
          "base_uri": "https://localhost:8080/",
          "height": 0
        }
      },
      "execution_count": 21,
      "outputs": [
        {
          "output_type": "stream",
          "name": "stdout",
          "text": [
            "+-------+----------+------------+----------+------+\n",
            "|acct_no|saving_acc|current_acct| open_date| total|\n",
            "+-------+----------+------------+----------+------+\n",
            "|     12|     20000|       50000|2023-07-01| 70000|\n",
            "|     21|     30000|       60000|2022-06-23| 90000|\n",
            "|     31|     30000|        null|      null| 30000|\n",
            "|     13|    100000|        null|2023-07-02|100000|\n",
            "|     41|      null|        null|2023-01-10|     0|\n",
            "|     14|    320000|      600000|2022-01-05|920000|\n",
            "+-------+----------+------------+----------+------+\n",
            "\n"
          ]
        }
      ]
    },
    {
      "cell_type": "markdown",
      "source": [],
      "metadata": {
        "id": "yVL6Wdjl2hFz"
      }
    },
    {
      "cell_type": "code",
      "source": [
        "#@title Q6 For table C create a new Column which have open_date in format YYYMMM\n",
        "Q6_df = withoutscpace_tableC_df.withColumn(\"new date\", date_format(col('open_date'), 'yyyyMM'))\n",
        "Q6_df.show()"
      ],
      "metadata": {
        "id": "1elIU8wl6AJf",
        "outputId": "e822f250-a29c-4f3e-dbb2-58a9b807f4b6",
        "colab": {
          "base_uri": "https://localhost:8080/",
          "height": 0
        }
      },
      "execution_count": 22,
      "outputs": [
        {
          "output_type": "stream",
          "name": "stdout",
          "text": [
            "+-------+----------+------------+----------+--------+\n",
            "|acct_no|saving_acc|current_acct| open_date|new date|\n",
            "+-------+----------+------------+----------+--------+\n",
            "|     12|     20000|       50000|2023-07-01|  202307|\n",
            "|     21|     30000|       60000|2022-06-23|  202206|\n",
            "|     31|     30000|        null|      null|    null|\n",
            "|     13|    100000|        null|2023-07-02|  202307|\n",
            "|     41|      null|        null|2023-01-10|  202301|\n",
            "|     14|    320000|      600000|2022-01-05|  202201|\n",
            "+-------+----------+------------+----------+--------+\n",
            "\n"
          ]
        }
      ]
    },
    {
      "cell_type": "code",
      "source": [
        "#@title Q7 For table A group by deparment order of all column amonut > 1L\n",
        "Q_7 = table_A_df.filter(col('amount') > 100000).groupBy(col('department')).agg(count(col('cif_id')).alias('count')).orderBy('count')\n",
        "Q_7.show()"
      ],
      "metadata": {
        "id": "Ex7Go1s7_XLl",
        "outputId": "f43d972f-672b-4a79-bce2-b4c4e782ab0d",
        "colab": {
          "base_uri": "https://localhost:8080/",
          "height": 0
        }
      },
      "execution_count": 23,
      "outputs": [
        {
          "output_type": "stream",
          "name": "stdout",
          "text": [
            "+----------+-----+\n",
            "|department|count|\n",
            "+----------+-----+\n",
            "|       C2E|    1|\n",
            "+----------+-----+\n",
            "\n"
          ]
        }
      ]
    },
    {
      "cell_type": "code",
      "source": [],
      "metadata": {
        "id": "sVJ5WT4N_XBi"
      },
      "execution_count": null,
      "outputs": []
    },
    {
      "cell_type": "code",
      "source": [],
      "metadata": {
        "id": "c_1xYSYV6yVc"
      },
      "execution_count": null,
      "outputs": []
    }
  ]
}